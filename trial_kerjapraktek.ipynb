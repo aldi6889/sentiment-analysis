{
 "cells": [
  {
   "cell_type": "code",
   "execution_count": 182,
   "id": "accredited-occupation",
   "metadata": {},
   "outputs": [],
   "source": [
    "import tweepy\n",
    "import re\n",
    "import numpy as np\n",
    "from textblob import TextBlob "
   ]
  },
  {
   "cell_type": "code",
   "execution_count": 183,
   "id": "finnish-franklin",
   "metadata": {
    "tags": []
   },
   "outputs": [],
   "source": [
    "api_key = \"T88SKKPzQfL2A9xgsux0D7T6S\"\n",
    "api_secret_key = \"NNIgFXiWMzQ2TlMdFSrASsxFpW9YsV7juS4bpGg15CkrkNL6Ri\"\n",
    "access_token = \"1187339073653854208-AekcVEDrX0Zp6dLUtTcutSvuV2Vvka\"\n",
    "access_token_secret = \"mqhE711vADtd36ilTkIL26Xf368soHdL6hm36Q9NKnjH8\""
   ]
  },
  {
   "cell_type": "code",
   "execution_count": 184,
   "id": "fixed-nursing",
   "metadata": {},
   "outputs": [],
   "source": [
    "auth = tweepy.OAuthHandler(api_key, api_secret_key)\n",
    "auth.set_access_token(access_token, access_token_secret)\n",
    "api = tweepy.API(auth)"
   ]
  },
  {
   "cell_type": "code",
   "execution_count": 185,
   "id": "descending-giving",
   "metadata": {},
   "outputs": [],
   "source": [
    "hasilSearch = api.search(q=\"Swab Test\", lang=\"en\", count=100)"
   ]
  },
  {
   "cell_type": "code",
   "execution_count": 192,
   "id": "mysterious-gambling",
   "metadata": {
    "tags": []
   },
   "outputs": [],
   "source": [
    "hasilAnalisis = []\n",
    "\n",
    "for tweet in hasilSearch:\n",
    "    tweet_properties = {}\n",
    "    tweet_properties[\"tanggal_tweet\"] = tweet.created_at\n",
    "    tweet_properties[\"pengguna\"] = tweet.user.screen_name\n",
    "    tweet_properties[\"isi_tweet\"] = tweet.text\n",
    "    #menghapus tab, new line, and back slice\n",
    "    tweet_bersih = tweet.text.replace('\\\\t',\" \").replace('\\\\n',\" \").replace('\\\\u',\" \").replace('\\\\',\"\")\n",
    "    #menghapus mention, link, hastag\n",
    "    tweet_bersih = ' '.join(re.sub(\"(@[A-Za-z0-9]+)|([^0-9A-Za-z \\t])|(\\w+:\\/\\/\\S+)\",\" \", tweet.text).split())\n",
    "    #menghapus non ASCII (emotion, chinnese word, .etc)\n",
    "    tweet_bersih = tweet.text.encode('ascii', 'replace').decode('ascii')\n",
    "    #menghapus incomplete URL\n",
    "    tweet_bersih = tweet.text.replace(\"http://\", \" \").replace(\"https://\",\" \")\n",
    "    \n",
    "    analysis = TextBlob(tweet_bersih)\n",
    "    \n",
    "    if analysis.sentiment.polarity > 0.0:\n",
    "        tweet_properties[\"sentimen\"] = \"positif\"\n",
    "    elif analysis.sentiment.polarity == 0.0:\n",
    "        tweet_properties[\"sentimen\"] = \"netral\"\n",
    "    else:\n",
    "        tweet_properties[\"sentimen\"] = \"negatif\"\n",
    "        \n",
    "    if tweet.retweet_count > 0:\n",
    "        if tweet_properties not in hasilAnalisis:\n",
    "            hasilAnalisis.append(tweet_properties)\n",
    "    else:\n",
    "        hasilAnalisis.append(tweet_properties)\n",
    "        "
   ]
  },
  {
   "cell_type": "code",
   "execution_count": 193,
   "id": "accomplished-terrace",
   "metadata": {},
   "outputs": [],
   "source": [
    "tweet_positif = [tweet for tweet in hasilAnalisis if tweet[\"sentimen\"]==\"positif\"]\n",
    "tweet_netral = [tweet for tweet in hasilAnalisis if tweet[\"sentimen\"]==\"netral\"]\n",
    "tweet_negatif = [tweet for tweet in hasilAnalisis if tweet[\"sentimen\"]==\"negatif\"]"
   ]
  },
  {
   "cell_type": "code",
   "execution_count": 194,
   "id": "changing-domain",
   "metadata": {
    "tags": []
   },
   "outputs": [
    {
     "name": "stdout",
     "output_type": "stream",
     "text": [
      "Hasil Sentimen\n",
      "positif:  9 (9.090909090909092%)\n",
      "netral:  85 (85.85858585858585%)\n",
      "negatif:  5 (5.05050505050505%)\n"
     ]
    }
   ],
   "source": [
    "print(\"Hasil Sentimen\")\n",
    "print(\"positif: \", len(tweet_positif), \"({}%)\".format(100*len(tweet_positif)/len(hasilAnalisis)))\n",
    "print(\"netral: \", len(tweet_netral), \"({}%)\".format(100*len(tweet_netral)/len(hasilAnalisis)))\n",
    "print(\"negatif: \", len(tweet_negatif), \"({}%)\".format(100*len(tweet_negatif)/len(hasilAnalisis)))\n"
   ]
  },
  {
   "cell_type": "code",
   "execution_count": 195,
   "id": "limiting-antibody",
   "metadata": {},
   "outputs": [
    {
     "data": {
      "text/plain": [
       "[{'tanggal_tweet': datetime.datetime(2021, 7, 2, 10, 50, 33),\n",
       "  'pengguna': '7Zeb24',\n",
       "  'isi_tweet': \"RT @washed_goofy: @celticstown @NNVaughns @EmmanuelAcho This shit is pretty dumb. If it's decision making under the influence, then swab te…\",\n",
       "  'sentimen': 'negatif'},\n",
       " {'tanggal_tweet': datetime.datetime(2021, 7, 2, 9, 54, 2),\n",
       "  'pengguna': 'jobinaview',\n",
       "  'isi_tweet': 'steven crowder tried to do a paternity test but there was so little dna in his cheek swab that now they have to sur… https://t.co/OwpsTEsPX5',\n",
       "  'sentimen': 'negatif'},\n",
       " {'tanggal_tweet': datetime.datetime(2021, 7, 2, 9, 51, 7),\n",
       "  'pengguna': 'FloroGalang',\n",
       "  'isi_tweet': 'RT @annjelaluz2: Among others, received negative swab test result this afternoon. Salamat sa Dios!\\n#ShareTheFaithMCGI \\n#MCGIFaithfulHearts',\n",
       "  'sentimen': 'negatif'},\n",
       " {'tanggal_tweet': datetime.datetime(2021, 7, 2, 9, 49, 17),\n",
       "  'pengguna': 'annjelaluz2',\n",
       "  'isi_tweet': 'Among others, received negative swab test result this afternoon. Salamat sa Dios!\\n#ShareTheFaithMCGI… https://t.co/5xFDDlQ73N',\n",
       "  'sentimen': 'negatif'},\n",
       " {'tanggal_tweet': datetime.datetime(2021, 7, 2, 8, 28, 21),\n",
       "  'pengguna': 'zan4312',\n",
       "  'isi_tweet': 'the only reason why im afraid to take a swab test is because my nose bled the first time it happened',\n",
       "  'sentimen': 'negatif'}]"
      ]
     },
     "execution_count": 195,
     "metadata": {},
     "output_type": "execute_result"
    }
   ],
   "source": [
    "tweet_negatif"
   ]
  },
  {
   "cell_type": "code",
   "execution_count": null,
   "id": "false-destination",
   "metadata": {},
   "outputs": [],
   "source": []
  },
  {
   "cell_type": "code",
   "execution_count": null,
   "id": "structured-idaho",
   "metadata": {},
   "outputs": [],
   "source": []
  },
  {
   "cell_type": "code",
   "execution_count": null,
   "id": "familiar-portland",
   "metadata": {},
   "outputs": [],
   "source": []
  }
 ],
 "metadata": {
  "kernelspec": {
   "display_name": "Python 3",
   "language": "python",
   "name": "python3"
  },
  "language_info": {
   "codemirror_mode": {
    "name": "ipython",
    "version": 3
   },
   "file_extension": ".py",
   "mimetype": "text/x-python",
   "name": "python",
   "nbconvert_exporter": "python",
   "pygments_lexer": "ipython3",
   "version": "3.8.8"
  }
 },
 "nbformat": 4,
 "nbformat_minor": 5
}
