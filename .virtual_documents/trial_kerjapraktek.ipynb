import tweepy
import re
import numpy as np
from textblob import TextBlob 


api_key = "T88SKKPzQfL2A9xgsux0D7T6S"
api_secret_key = "NNIgFXiWMzQ2TlMdFSrASsxFpW9YsV7juS4bpGg15CkrkNL6Ri"
access_token = "1187339073653854208-AekcVEDrX0Zp6dLUtTcutSvuV2Vvka"
access_token_secret = "mqhE711vADtd36ilTkIL26Xf368soHdL6hm36Q9NKnjH8"


auth = tweepy.OAuthHandler(api_key, api_secret_key)
auth.set_access_token(access_token, access_token_secret)
api = tweepy.API(auth)


hasilSearch = api.search(q="Swab Test", lang="en", count=100)


hasilAnalisis = []

for tweet in hasilSearch:
    tweet_properties = {}
    tweet_properties["tanggal_tweet"] = tweet.created_at
    tweet_properties["pengguna"] = tweet.user.screen_name
    tweet_properties["isi_tweet"] = tweet.text
    #menghapus tab, new line, and back slice
    tweet_bersih = tweet.text.replace('\\t'," ").replace('\\n'," ").replace('\\u'," ").replace('\\',"")
    #menghapus mention, link, hastag
    tweet_bersih = ' '.join(re.sub("(@[A-Za-z0-9]+)|([^0-9A-Za-z \t])|(\w+:\/\/\S+)"," ", tweet.text).split())
    #menghapus non ASCII (emotion, chinnese word, .etc)
    tweet_bersih = tweet.text.encode('ascii', 'replace').decode('ascii')
    #menghapus incomplete URL
    tweet_bersih = tweet.text.replace("http://", " ").replace("https://"," ")
    
    analysis = TextBlob(tweet_bersih)
    
    if analysis.sentiment.polarity > 0.0:
        tweet_properties["sentimen"] = "positif"
    elif analysis.sentiment.polarity == 0.0:
        tweet_properties["sentimen"] = "netral"
    else:
        tweet_properties["sentimen"] = "negatif"
        
    if tweet.retweet_count > 0:
        if tweet_properties not in hasilAnalisis:
            hasilAnalisis.append(tweet_properties)
    else:
        hasilAnalisis.append(tweet_properties)
        


tweet_positif = [tweet for tweet in hasilAnalisis if tweet["sentimen"]=="positif"]
tweet_netral = [tweet for tweet in hasilAnalisis if tweet["sentimen"]=="netral"]
tweet_negatif = [tweet for tweet in hasilAnalisis if tweet["sentimen"]=="negatif"]


print("Hasil Sentimen")
print("positif: ", len(tweet_positif), "({}%)".format(100*len(tweet_positif)/len(hasilAnalisis)))
print("netral: ", len(tweet_netral), "({}%)".format(100*len(tweet_netral)/len(hasilAnalisis)))
print("negatif: ", len(tweet_negatif), "({}%)".format(100*len(tweet_negatif)/len(hasilAnalisis)))



tweet_negatif









