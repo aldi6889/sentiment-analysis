{
 "cells": [
  {
   "cell_type": "code",
   "execution_count": 99,
   "id": "greenhouse-share",
   "metadata": {},
   "outputs": [],
   "source": [
    "import tweepy\n",
    "import re\n",
    "from textblob import TextBlob "
   ]
  },
  {
   "cell_type": "code",
   "execution_count": 100,
   "id": "ultimate-dream",
   "metadata": {
    "tags": []
   },
   "outputs": [],
   "source": [
    "api_key = \"T88SKKPzQfL2A9xgsux0D7T6S\"\n",
    "api_secret_key = \"NNIgFXiWMzQ2TlMdFSrASsxFpW9YsV7juS4bpGg15CkrkNL6Ri\"\n",
    "access_token = \"1187339073653854208-AekcVEDrX0Zp6dLUtTcutSvuV2Vvka\"\n",
    "access_token_secret = \"mqhE711vADtd36ilTkIL26Xf368soHdL6hm36Q9NKnjH8\""
   ]
  },
  {
   "cell_type": "code",
   "execution_count": 101,
   "id": "parliamentary-motion",
   "metadata": {},
   "outputs": [],
   "source": [
    "auth = tweepy.OAuthHandler(api_key, api_secret_key)\n",
    "auth.set_access_token(access_token, access_token_secret)\n",
    "api = tweepy.API(auth)"
   ]
  },
  {
   "cell_type": "code",
   "execution_count": 102,
   "id": "julian-event",
   "metadata": {},
   "outputs": [],
   "source": [
    "hasilSearch = api.search(q=\"Elon Musk\", lang=\"en\", count=100)"
   ]
  },
  {
   "cell_type": "code",
   "execution_count": 117,
   "id": "altered-nature",
   "metadata": {
    "tags": []
   },
   "outputs": [],
   "source": [
    "hasilAnalisis = []\n",
    "\n",
    "for tweet in hasilSearch:\n",
    "    tweet_properties = {}\n",
    "    tweet_properties[\"tanggal_tweet\"] = tweet.created_at\n",
    "    tweet_properties[\"pengguna\"] = tweet.user.screen_name\n",
    "    tweet_properties[\"isi_tweet\"] = tweet.text\n",
    "    #menghapus tab, new line, and back slice\n",
    "    tweet_bersih = tweet.text.replace('\\\\t',\" \").replace('\\\\n',\" \").replace('\\\\u',\" \").replace('\\\\',\"\")\n",
    "    #menghapus mention, link, hastag\n",
    "    tweet_bersih = ' '.join(re.sub(\"(@[A-Za-z0-9]+)|([^0-9A-Za-z \\t])|(\\w+:\\/\\/\\S+)\",\" \", tweet.text).split())\n",
    "    #menghapus non ASCII (emotion, chinnese word, .etc)\n",
    "    tweet_bersih = tweet.text.encode('ascii', 'replace').decode('ascii')\n",
    "    #menghapus incomplete URL\n",
    "    tweet_bersih = tweet.text.replace(\"http://\", \" \").replace(\"https://\",\" \")\n",
    "    \n",
    "    analysis = TextBlob(tweet_bersih)\n",
    "    \n",
    "    if analysis.sentiment.polarity > 0.0:\n",
    "        tweet_properties[\"sentimen\"] = \"positif\"\n",
    "    elif analysis.sentiment.polarity == 0.0:\n",
    "        tweet_properties[\"sentimen\"] = \"netral\"\n",
    "    else:\n",
    "        tweet_properties[\"sentimen\"] = \"negatif\"\n",
    "        \n",
    "    if tweet.retweet_count > 0:\n",
    "        if tweet_properties not in hasilAnalisis:\n",
    "            hasilAnalisis.append(tweet_properties)\n",
    "    else:\n",
    "        hasilAnalisis.append(tweet_properties)\n",
    "        "
   ]
  },
  {
   "cell_type": "code",
   "execution_count": 118,
   "id": "hybrid-suggestion",
   "metadata": {},
   "outputs": [],
   "source": [
    "tweet_positif = [tweet for tweet in hasilAnalisis if tweet[\"sentimen\"]==\"positif\"]\n",
    "tweet_netral = [tweet for tweet in hasilAnalisis if tweet[\"sentimen\"]==\"netral\"]\n",
    "tweet_negatif = [tweet for tweet in hasilAnalisis if tweet[\"sentimen\"]==\"negatif\"]"
   ]
  },
  {
   "cell_type": "code",
   "execution_count": 119,
   "id": "horizontal-resource",
   "metadata": {
    "tags": []
   },
   "outputs": [
    {
     "name": "stdout",
     "output_type": "stream",
     "text": [
      "Hasil Sentimen\n",
      "positif:  29 (29.0%)\n",
      "netral:  38 (38.0%)\n",
      "negatif:  33 (33.0%)\n"
     ]
    }
   ],
   "source": [
    "print(\"Hasil Sentimen\")\n",
    "print(\"positif: \", len(tweet_positif), \"({}%)\".format(100*len(tweet_positif)/len(hasilAnalisis)))\n",
    "print(\"netral: \", len(tweet_netral), \"({}%)\".format(100*len(tweet_netral)/len(hasilAnalisis)))\n",
    "print(\"negatif: \", len(tweet_negatif), \"({}%)\".format(100*len(tweet_negatif)/len(hasilAnalisis)))\n"
   ]
  },
  {
   "cell_type": "code",
   "execution_count": 120,
   "id": "figured-alexander",
   "metadata": {},
   "outputs": [
    {
     "data": {
      "text/plain": [
       "[{'tanggal_tweet': datetime.datetime(2021, 7, 2, 10, 12, 29),\n",
       "  'pengguna': 'SynysterZeikku',\n",
       "  'isi_tweet': 'RT @parismarx: Tech billionaires like Elon Musk want you to believe this is outdated tech and instead we keep driving cars until the day Hy…',\n",
       "  'sentimen': 'negatif'},\n",
       " {'tanggal_tweet': datetime.datetime(2021, 7, 2, 10, 12, 29),\n",
       "  'pengguna': 'Huzefaaziz4',\n",
       "  'isi_tweet': '@elonmusk Assalamu Alaikum Elon Musk make a game app launch Rocket to Mars you have to program you can use coding and visual programming',\n",
       "  'sentimen': 'negatif'},\n",
       " {'tanggal_tweet': datetime.datetime(2021, 7, 2, 10, 11, 54),\n",
       "  'pengguna': 'coffeewing',\n",
       "  'isi_tweet': 'RT @parismarx: Tech billionaires like Elon Musk want you to believe this is outdated tech and instead we keep driving cars until the day Hy…',\n",
       "  'sentimen': 'negatif'},\n",
       " {'tanggal_tweet': datetime.datetime(2021, 7, 2, 10, 11, 53),\n",
       "  'pengguna': 'TheLotusYeeter',\n",
       "  'isi_tweet': 'It was looking for Elon Musk to take him down with it https://t.co/A4bQZIs2KK',\n",
       "  'sentimen': 'negatif'},\n",
       " {'tanggal_tweet': datetime.datetime(2021, 7, 2, 10, 11, 40),\n",
       "  'pengguna': 'theresacross_',\n",
       "  'isi_tweet': \"Elon Musk says #SpaceX competitor \\u2066@Unitedlaunch_\\u2069 would be 'dead ' without Pentagon help - CNBC https://t.co/shPWQVhqDx\",\n",
       "  'sentimen': 'negatif'},\n",
       " {'tanggal_tweet': datetime.datetime(2021, 7, 2, 10, 10, 55),\n",
       "  'pengguna': 'antonfarrera1',\n",
       "  'isi_tweet': 'RT @parismarx: Tech billionaires like Elon Musk want you to believe this is outdated tech and instead we keep driving cars until the day Hy…',\n",
       "  'sentimen': 'negatif'},\n",
       " {'tanggal_tweet': datetime.datetime(2021, 7, 2, 10, 10, 50),\n",
       "  'pengguna': 'tom_wein',\n",
       "  'isi_tweet': 'RT @parismarx: Tech billionaires like Elon Musk want you to believe this is outdated tech and instead we keep driving cars until the day Hy…',\n",
       "  'sentimen': 'negatif'},\n",
       " {'tanggal_tweet': datetime.datetime(2021, 7, 2, 10, 10, 46),\n",
       "  'pengguna': 'nazaleakusuma',\n",
       "  'isi_tweet': 'RT @parismarx: Tech billionaires like Elon Musk want you to believe this is outdated tech and instead we keep driving cars until the day Hy…',\n",
       "  'sentimen': 'negatif'},\n",
       " {'tanggal_tweet': datetime.datetime(2021, 7, 2, 10, 10, 34),\n",
       "  'pengguna': 'mayeks_',\n",
       "  'isi_tweet': 'RT @parismarx: Tech billionaires like Elon Musk want you to believe this is outdated tech and instead we keep driving cars until the day Hy…',\n",
       "  'sentimen': 'negatif'},\n",
       " {'tanggal_tweet': datetime.datetime(2021, 7, 2, 10, 10, 4),\n",
       "  'pengguna': 'NeedNoApplause',\n",
       "  'isi_tweet': 'RT @parismarx: Tech billionaires like Elon Musk want you to believe this is outdated tech and instead we keep driving cars until the day Hy…',\n",
       "  'sentimen': 'negatif'},\n",
       " {'tanggal_tweet': datetime.datetime(2021, 7, 2, 10, 10, 1),\n",
       "  'pengguna': 'izzyentertained',\n",
       "  'isi_tweet': 'i swear to god i’ve unfollowed elon musk like 3 times now does this disappointment buy follows or some shit',\n",
       "  'sentimen': 'negatif'},\n",
       " {'tanggal_tweet': datetime.datetime(2021, 7, 2, 10, 9, 36),\n",
       "  'pengguna': '1muchgravy',\n",
       "  'isi_tweet': 'RT @parismarx: Tech billionaires like Elon Musk want you to believe this is outdated tech and instead we keep driving cars until the day Hy…',\n",
       "  'sentimen': 'negatif'},\n",
       " {'tanggal_tweet': datetime.datetime(2021, 7, 2, 10, 8, 59),\n",
       "  'pengguna': 'Slysterk',\n",
       "  'isi_tweet': 'RT @parismarx: Tech billionaires like Elon Musk want you to believe this is outdated tech and instead we keep driving cars until the day Hy…',\n",
       "  'sentimen': 'negatif'},\n",
       " {'tanggal_tweet': datetime.datetime(2021, 7, 2, 10, 8, 39),\n",
       "  'pengguna': 'maxm_profit',\n",
       "  'isi_tweet': 'RT @mavil005: Baby Doge, doo, doo, doo, doo, doo,\\nBaby Doge, down, down, down, down, down,\\nBaby Doge, down, down , doo, doo, doo,\\nBaby Doge…',\n",
       "  'sentimen': 'negatif'},\n",
       " {'tanggal_tweet': datetime.datetime(2021, 7, 2, 10, 7, 53),\n",
       "  'pengguna': 'seattleoutcast',\n",
       "  'isi_tweet': 'RT @parismarx: Tech billionaires like Elon Musk want you to believe this is outdated tech and instead we keep driving cars until the day Hy…',\n",
       "  'sentimen': 'negatif'},\n",
       " {'tanggal_tweet': datetime.datetime(2021, 7, 2, 10, 7, 37),\n",
       "  'pengguna': 'Deadpoetcameo',\n",
       "  'isi_tweet': 'RT @parismarx: Tech billionaires like Elon Musk want you to believe this is outdated tech and instead we keep driving cars until the day Hy…',\n",
       "  'sentimen': 'negatif'},\n",
       " {'tanggal_tweet': datetime.datetime(2021, 7, 2, 10, 7, 18),\n",
       "  'pengguna': 'RS_Glide08',\n",
       "  'isi_tweet': 'RT @parismarx: Tech billionaires like Elon Musk want you to believe this is outdated tech and instead we keep driving cars until the day Hy…',\n",
       "  'sentimen': 'negatif'},\n",
       " {'tanggal_tweet': datetime.datetime(2021, 7, 2, 10, 7, 16),\n",
       "  'pengguna': 'danieltcarr_',\n",
       "  'isi_tweet': 'RT @parismarx: Tech billionaires like Elon Musk want you to believe this is outdated tech and instead we keep driving cars until the day Hy…',\n",
       "  'sentimen': 'negatif'},\n",
       " {'tanggal_tweet': datetime.datetime(2021, 7, 2, 10, 7, 8),\n",
       "  'pengguna': 'SharPhoe',\n",
       "  'isi_tweet': 'RT @parismarx: Tech billionaires like Elon Musk want you to believe this is outdated tech and instead we keep driving cars until the day Hy…',\n",
       "  'sentimen': 'negatif'},\n",
       " {'tanggal_tweet': datetime.datetime(2021, 7, 2, 10, 6, 35),\n",
       "  'pengguna': 'crisishamburger',\n",
       "  'isi_tweet': 'RT @parismarx: Tech billionaires like Elon Musk want you to believe this is outdated tech and instead we keep driving cars until the day Hy…',\n",
       "  'sentimen': 'negatif'},\n",
       " {'tanggal_tweet': datetime.datetime(2021, 7, 2, 10, 6, 33),\n",
       "  'pengguna': 'NoelleTheKit',\n",
       "  'isi_tweet': 'RT @parismarx: Tech billionaires like Elon Musk want you to believe this is outdated tech and instead we keep driving cars until the day Hy…',\n",
       "  'sentimen': 'negatif'},\n",
       " {'tanggal_tweet': datetime.datetime(2021, 7, 2, 10, 6, 12),\n",
       "  'pengguna': 'Golly_Gosh_FA',\n",
       "  'isi_tweet': 'RT @parismarx: Tech billionaires like Elon Musk want you to believe this is outdated tech and instead we keep driving cars until the day Hy…',\n",
       "  'sentimen': 'negatif'},\n",
       " {'tanggal_tweet': datetime.datetime(2021, 7, 2, 10, 6, 9),\n",
       "  'pengguna': 'JacobA_2015',\n",
       "  'isi_tweet': 'RT @parismarx: Tech billionaires like Elon Musk want you to believe this is outdated tech and instead we keep driving cars until the day Hy…',\n",
       "  'sentimen': 'negatif'},\n",
       " {'tanggal_tweet': datetime.datetime(2021, 7, 2, 10, 6, 7),\n",
       "  'pengguna': 'danparkin10x',\n",
       "  'isi_tweet': 'RT @parismarx: Tech billionaires like Elon Musk want you to believe this is outdated tech and instead we keep driving cars until the day Hy…',\n",
       "  'sentimen': 'negatif'},\n",
       " {'tanggal_tweet': datetime.datetime(2021, 7, 2, 10, 6, 4),\n",
       "  'pengguna': 'ornythos',\n",
       "  'isi_tweet': 'RT @parismarx: Tech billionaires like Elon Musk want you to believe this is outdated tech and instead we keep driving cars until the day Hy…',\n",
       "  'sentimen': 'negatif'},\n",
       " {'tanggal_tweet': datetime.datetime(2021, 7, 2, 10, 5, 23),\n",
       "  'pengguna': 'syedjavali',\n",
       "  'isi_tweet': 'Idk man. This is a tough one. Could be Sherlock Holmes or it could be Elon Musk. https://t.co/yjXcME3czB',\n",
       "  'sentimen': 'negatif'},\n",
       " {'tanggal_tweet': datetime.datetime(2021, 7, 2, 10, 4, 59),\n",
       "  'pengguna': 'FogartyFogarty2',\n",
       "  'isi_tweet': 'Elon Musk Says Starlink to Go Worldwide in Next Few Weeks https://t.co/wH3YO4y7PP',\n",
       "  'sentimen': 'negatif'},\n",
       " {'tanggal_tweet': datetime.datetime(2021, 7, 2, 10, 4, 49),\n",
       "  'pengguna': 'Delibird444',\n",
       "  'isi_tweet': 'RT @parismarx: Tech billionaires like Elon Musk want you to believe this is outdated tech and instead we keep driving cars until the day Hy…',\n",
       "  'sentimen': 'negatif'},\n",
       " {'tanggal_tweet': datetime.datetime(2021, 7, 2, 10, 4, 44),\n",
       "  'pengguna': 'jaaycollard',\n",
       "  'isi_tweet': 'RT @parismarx: Tech billionaires like Elon Musk want you to believe this is outdated tech and instead we keep driving cars until the day Hy…',\n",
       "  'sentimen': 'negatif'},\n",
       " {'tanggal_tweet': datetime.datetime(2021, 7, 2, 10, 4, 41),\n",
       "  'pengguna': 'MrSecretGuy',\n",
       "  'isi_tweet': 'RT @parismarx: Tech billionaires like Elon Musk want you to believe this is outdated tech and instead we keep driving cars until the day Hy…',\n",
       "  'sentimen': 'negatif'},\n",
       " {'tanggal_tweet': datetime.datetime(2021, 7, 2, 10, 4, 15),\n",
       "  'pengguna': 'conscientiam__',\n",
       "  'isi_tweet': 'RT @parismarx: Tech billionaires like Elon Musk want you to believe this is outdated tech and instead we keep driving cars until the day Hy…',\n",
       "  'sentimen': 'negatif'},\n",
       " {'tanggal_tweet': datetime.datetime(2021, 7, 2, 10, 3, 48),\n",
       "  'pengguna': 'CoinsCapture',\n",
       "  'isi_tweet': \"News: Elon Musk's Tweet Failed To Move #Dogecoin Price\\n\\nIt seems as Elon Musk’s tweets have no more effect on Dogec… https://t.co/NGYWVeitII\",\n",
       "  'sentimen': 'negatif'},\n",
       " {'tanggal_tweet': datetime.datetime(2021, 7, 2, 10, 3, 20),\n",
       "  'pengguna': 'sebas_chandi',\n",
       "  'isi_tweet': 'RT @parismarx: Tech billionaires like Elon Musk want you to believe this is outdated tech and instead we keep driving cars until the day Hy…',\n",
       "  'sentimen': 'negatif'}]"
      ]
     },
     "execution_count": 120,
     "metadata": {},
     "output_type": "execute_result"
    }
   ],
   "source": [
    "tweet_negatif"
   ]
  },
  {
   "cell_type": "code",
   "execution_count": null,
   "id": "convinced-analysis",
   "metadata": {},
   "outputs": [],
   "source": []
  }
 ],
 "metadata": {
  "kernelspec": {
   "display_name": "Python 3",
   "language": "python",
   "name": "python3"
  },
  "language_info": {
   "codemirror_mode": {
    "name": "ipython",
    "version": 3
   },
   "file_extension": ".py",
   "mimetype": "text/x-python",
   "name": "python",
   "nbconvert_exporter": "python",
   "pygments_lexer": "ipython3",
   "version": "3.8.8"
  }
 },
 "nbformat": 4,
 "nbformat_minor": 5
}
